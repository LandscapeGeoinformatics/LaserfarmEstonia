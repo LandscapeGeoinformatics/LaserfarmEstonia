{
 "cells": [
  {
   "cell_type": "code",
   "execution_count": 1,
   "metadata": {},
   "outputs": [],
   "source": [
    "import copy\n",
    "import json\n",
    "import pathlib\n",
    "\n",
    "from distutils import dir_util\n",
    "from dask.distributed import Client, LocalCluster\n",
    "from urllib.request import urlretrieve\n",
    "\n",
    "from laserfarm import Retiler, DataProcessing, GeotiffWriter, Classification\n",
    "from laserfarm import MacroPipeline"
   ]
  },
  {
   "cell_type": "markdown",
   "metadata": {},
   "source": [
    "# Macro-ecology LiDAR point-cloud processing pipeline "
   ]
  },
  {
   "cell_type": "markdown",
   "metadata": {},
   "source": [
    "## 0. Data Retrieval  and Cluster Setup\n",
    "\n",
    "Files produced by the pipeline will be saved in the `tmp_folder` directory. "
   ]
  },
  {
   "cell_type": "code",
   "execution_count": 2,
   "metadata": {},
   "outputs": [],
   "source": [
    "tmp_folder = pathlib.Path('/var/tmp')"
   ]
  },
  {
   "cell_type": "markdown",
   "metadata": {},
   "source": [
    "We start by checking whether the test data set is available locally, we otherwise retrieve it from the AHN3 repository."
   ]
  },
  {
   "cell_type": "code",
   "execution_count": 3,
   "metadata": {},
   "outputs": [],
   "source": [
    "testdata_files = ['C_41CZ2.LAZ']\n",
    "\n",
    "file_paths = [tmp_folder/f for f in testdata_files]\n",
    "\n",
    "for file_path in file_paths:\n",
    "    if not file_path.is_file():\n",
    "        url = 'https://geodata.nationaalgeoregister.nl/ahn3/extract/ahn3_laz'\n",
    "        url = '/'.join([url, file_path.name])\n",
    "        urlretrieve(url, file_path)"
   ]
  },
  {
   "cell_type": "markdown",
   "metadata": {},
   "source": [
    "We then setup the cluster that we will use for the computation using `dask`. For this example, the cluster consists of 2 processes (workers). Note: it is important that single-threaded workers are employed for the tasks that require `laserchicken`!  "
   ]
  },
  {
   "cell_type": "code",
   "execution_count": 4,
   "metadata": {},
   "outputs": [
    {
     "data": {
      "text/html": [
       "<div class=\"jp-RenderedHTMLCommon jp-RenderedHTML jp-mod-trusted jp-OutputArea-output\">\n",
       "    <div style=\"width: 24px; height: 24px; background-color: #e1e1e1; border: 3px solid #9D9D9D; border-radius: 5px; position: absolute;\">\n",
       "    </div>\n",
       "    <div style=\"margin-left: 48px;\">\n",
       "        <h3 style=\"margin-bottom: 0px; margin-top: 0px;\">LocalCluster</h3>\n",
       "        <p style=\"color: #9D9D9D; margin-bottom: 0px;\">3f89021c</p>\n",
       "        <table style=\"width: 100%; text-align: left;\">\n",
       "            <tr>\n",
       "                <td style=\"text-align: left;\">\n",
       "                    <strong>Dashboard:</strong> <a href=\"http://127.0.0.1:8787/status\" target=\"_blank\">http://127.0.0.1:8787/status</a>\n",
       "                </td>\n",
       "                <td style=\"text-align: left;\">\n",
       "                    <strong>Workers:</strong> 2\n",
       "                </td>\n",
       "            </tr>\n",
       "            <tr>\n",
       "                <td style=\"text-align: left;\">\n",
       "                    <strong>Total threads:</strong> 2\n",
       "                </td>\n",
       "                <td style=\"text-align: left;\">\n",
       "                    <strong>Total memory:</strong> 16.00 GiB\n",
       "                </td>\n",
       "            </tr>\n",
       "            \n",
       "            <tr>\n",
       "    <td style=\"text-align: left;\"><strong>Status:</strong> running</td>\n",
       "    <td style=\"text-align: left;\"><strong>Using processes:</strong> True</td>\n",
       "</tr>\n",
       "\n",
       "            \n",
       "        </table>\n",
       "\n",
       "        <details>\n",
       "            <summary style=\"margin-bottom: 20px;\">\n",
       "                <h3 style=\"display: inline;\">Scheduler Info</h3>\n",
       "            </summary>\n",
       "\n",
       "            <div style=\"\">\n",
       "    <div>\n",
       "        <div style=\"width: 24px; height: 24px; background-color: #FFF7E5; border: 3px solid #FF6132; border-radius: 5px; position: absolute;\"> </div>\n",
       "        <div style=\"margin-left: 48px;\">\n",
       "            <h3 style=\"margin-bottom: 0px;\">Scheduler</h3>\n",
       "            <p style=\"color: #9D9D9D; margin-bottom: 0px;\">Scheduler-fe810b42-a2d1-47f3-9190-e6bcdcd200c9</p>\n",
       "            <table style=\"width: 100%; text-align: left;\">\n",
       "                <tr>\n",
       "                    <td style=\"text-align: left;\">\n",
       "                        <strong>Comm:</strong> tcp://127.0.0.1:56132\n",
       "                    </td>\n",
       "                    <td style=\"text-align: left;\">\n",
       "                        <strong>Workers:</strong> 2\n",
       "                    </td>\n",
       "                </tr>\n",
       "                <tr>\n",
       "                    <td style=\"text-align: left;\">\n",
       "                        <strong>Dashboard:</strong> <a href=\"http://127.0.0.1:8787/status\" target=\"_blank\">http://127.0.0.1:8787/status</a>\n",
       "                    </td>\n",
       "                    <td style=\"text-align: left;\">\n",
       "                        <strong>Total threads:</strong> 2\n",
       "                    </td>\n",
       "                </tr>\n",
       "                <tr>\n",
       "                    <td style=\"text-align: left;\">\n",
       "                        <strong>Started:</strong> Just now\n",
       "                    </td>\n",
       "                    <td style=\"text-align: left;\">\n",
       "                        <strong>Total memory:</strong> 16.00 GiB\n",
       "                    </td>\n",
       "                </tr>\n",
       "            </table>\n",
       "        </div>\n",
       "    </div>\n",
       "\n",
       "    <details style=\"margin-left: 48px;\">\n",
       "        <summary style=\"margin-bottom: 20px;\">\n",
       "            <h3 style=\"display: inline;\">Workers</h3>\n",
       "        </summary>\n",
       "\n",
       "        \n",
       "        <div style=\"margin-bottom: 20px;\">\n",
       "            <div style=\"width: 24px; height: 24px; background-color: #DBF5FF; border: 3px solid #4CC9FF; border-radius: 5px; position: absolute;\"> </div>\n",
       "            <div style=\"margin-left: 48px;\">\n",
       "            <details>\n",
       "                <summary>\n",
       "                    <h4 style=\"margin-bottom: 0px; display: inline;\">Worker: 0</h4>\n",
       "                </summary>\n",
       "                <table style=\"width: 100%; text-align: left;\">\n",
       "                    <tr>\n",
       "                        <td style=\"text-align: left;\">\n",
       "                            <strong>Comm: </strong> tcp://127.0.0.1:56140\n",
       "                        </td>\n",
       "                        <td style=\"text-align: left;\">\n",
       "                            <strong>Total threads: </strong> 1\n",
       "                        </td>\n",
       "                    </tr>\n",
       "                    <tr>\n",
       "                        <td style=\"text-align: left;\">\n",
       "                            <strong>Dashboard: </strong> <a href=\"http://127.0.0.1:56141/status\" target=\"_blank\">http://127.0.0.1:56141/status</a>\n",
       "                        </td>\n",
       "                        <td style=\"text-align: left;\">\n",
       "                            <strong>Memory: </strong> 8.00 GiB\n",
       "                        </td>\n",
       "                    </tr>\n",
       "                    <tr>\n",
       "                        <td style=\"text-align: left;\">\n",
       "                            <strong>Nanny: </strong> tcp://127.0.0.1:56136\n",
       "                        </td>\n",
       "                        <td style=\"text-align: left;\"></td>\n",
       "                    </tr>\n",
       "                    <tr>\n",
       "                        <td colspan=\"2\" style=\"text-align: left;\">\n",
       "                            <strong>Local directory: </strong> /var/tmp/dask-worker-space/dask-worker-space/worker-gwb8uqjx\n",
       "                        </td>\n",
       "                    </tr>\n",
       "\n",
       "                    \n",
       "\n",
       "                    \n",
       "\n",
       "                </table>\n",
       "            </details>\n",
       "            </div>\n",
       "        </div>\n",
       "        \n",
       "        <div style=\"margin-bottom: 20px;\">\n",
       "            <div style=\"width: 24px; height: 24px; background-color: #DBF5FF; border: 3px solid #4CC9FF; border-radius: 5px; position: absolute;\"> </div>\n",
       "            <div style=\"margin-left: 48px;\">\n",
       "            <details>\n",
       "                <summary>\n",
       "                    <h4 style=\"margin-bottom: 0px; display: inline;\">Worker: 1</h4>\n",
       "                </summary>\n",
       "                <table style=\"width: 100%; text-align: left;\">\n",
       "                    <tr>\n",
       "                        <td style=\"text-align: left;\">\n",
       "                            <strong>Comm: </strong> tcp://127.0.0.1:56139\n",
       "                        </td>\n",
       "                        <td style=\"text-align: left;\">\n",
       "                            <strong>Total threads: </strong> 1\n",
       "                        </td>\n",
       "                    </tr>\n",
       "                    <tr>\n",
       "                        <td style=\"text-align: left;\">\n",
       "                            <strong>Dashboard: </strong> <a href=\"http://127.0.0.1:56142/status\" target=\"_blank\">http://127.0.0.1:56142/status</a>\n",
       "                        </td>\n",
       "                        <td style=\"text-align: left;\">\n",
       "                            <strong>Memory: </strong> 8.00 GiB\n",
       "                        </td>\n",
       "                    </tr>\n",
       "                    <tr>\n",
       "                        <td style=\"text-align: left;\">\n",
       "                            <strong>Nanny: </strong> tcp://127.0.0.1:56135\n",
       "                        </td>\n",
       "                        <td style=\"text-align: left;\"></td>\n",
       "                    </tr>\n",
       "                    <tr>\n",
       "                        <td colspan=\"2\" style=\"text-align: left;\">\n",
       "                            <strong>Local directory: </strong> /var/tmp/dask-worker-space/dask-worker-space/worker-0qaj56n8\n",
       "                        </td>\n",
       "                    </tr>\n",
       "\n",
       "                    \n",
       "\n",
       "                    \n",
       "\n",
       "                </table>\n",
       "            </details>\n",
       "            </div>\n",
       "        </div>\n",
       "        \n",
       "\n",
       "    </details>\n",
       "</div>\n",
       "\n",
       "        </details>\n",
       "    </div>\n",
       "</div>"
      ],
      "text/plain": [
       "LocalCluster(3f89021c, 'tcp://127.0.0.1:56132', workers=2, threads=2, memory=16.00 GiB)"
      ]
     },
     "metadata": {},
     "output_type": "display_data"
    }
   ],
   "source": [
    "cluster = LocalCluster(processes=True, \n",
    "                       n_workers=2, \n",
    "                       threads_per_worker=1, \n",
    "                       local_directory=tmp_folder/'dask-worker-space')\n",
    "cluster"
   ]
  },
  {
   "cell_type": "markdown",
   "metadata": {},
   "source": [
    "## 1. Retiling\n",
    "\n",
    "The first step in the pipeline is to retile the retrieved point-cloud files to a regular grid, splitting the original data into smaller chuncks that are easier to handle for data processing. The boundaries of the grid and the number of tiles along each axis are set to:"
   ]
  },
  {
   "cell_type": "code",
   "execution_count": 5,
   "metadata": {},
   "outputs": [],
   "source": [
    "grid = {\n",
    "    'min_x': -113107.8100,\n",
    "    'max_x': 398892.1900,\n",
    "    'min_y': 214783.8700,\n",
    "    'max_y': 726783.87,\n",
    "    'n_tiles_side': 256\n",
    "}"
   ]
  },
  {
   "cell_type": "markdown",
   "metadata": {},
   "source": [
    "The retiling of multiple input files consists of independent tasks, which are thus efficiently parallelized. The input controlling all the steps of the retiling is organized in a dictionary."
   ]
  },
  {
   "cell_type": "code",
   "execution_count": 6,
   "metadata": {},
   "outputs": [],
   "source": [
    "# set path where output will be written \n",
    "retiling_out_path = tmp_folder/'retiled'\n",
    "\n",
    "retiling_input = {\n",
    "    'setup_local_fs': {\n",
    "        'input_folder': tmp_folder.as_posix(),\n",
    "        'output_folder': retiling_out_path.as_posix()\n",
    "    },\n",
    "    'set_grid': grid,\n",
    "    'split_and_redistribute': {},\n",
    "    'validate': {}\n",
    "}"
   ]
  },
  {
   "cell_type": "code",
   "execution_count": 7,
   "metadata": {},
   "outputs": [
    {
     "name": "stderr",
     "output_type": "stream",
     "text": [
      "2021-10-27 14:59:30,657 -           laserfarm.pipeline_remote_data -       INFO - Input dir set to /var/tmp\n",
      "2021-10-27 14:59:30,657 -           laserfarm.pipeline_remote_data -       INFO - Output dir set to /var/tmp/retiled\n",
      "2021-10-27 14:59:30,658 -                        laserfarm.retiler -       INFO - Setting up the target grid\n",
      "2021-10-27 14:59:30,658 -                        laserfarm.retiler -       INFO - Splitting file /var/tmp/C_41CZ2.LAZ with PDAL ...\n"
     ]
    },
    {
     "name": "stdout",
     "output_type": "stream",
     "text": [
      "001 C_41CZ2                        finished\n"
     ]
    },
    {
     "name": "stderr",
     "output_type": "stream",
     "text": [
      "2021-10-27 15:00:07,243 -                        laserfarm.retiler -       INFO - ... splitting completed.\n",
      "2021-10-27 15:00:07,246 -                        laserfarm.retiler -       INFO - Redistributing files to tiles ...\n",
      "2021-10-27 15:00:07,247 -                        laserfarm.retiler -       INFO - ... file C_41CZ2_4.LAZ to tile_170_107\n",
      "2021-10-27 15:00:07,250 -                        laserfarm.retiler -       INFO - ... file C_41CZ2_5.LAZ to tile_170_108\n",
      "2021-10-27 15:00:07,251 -                        laserfarm.retiler -       INFO - ... file C_41CZ2_7.LAZ to tile_171_108\n",
      "2021-10-27 15:00:07,252 -                        laserfarm.retiler -       INFO - ... file C_41CZ2_6.LAZ to tile_171_107\n",
      "2021-10-27 15:00:07,253 -                        laserfarm.retiler -       INFO - ... file C_41CZ2_2.LAZ to tile_169_107\n",
      "2021-10-27 15:00:07,254 -                        laserfarm.retiler -       INFO - ... file C_41CZ2_3.LAZ to tile_169_108\n",
      "2021-10-27 15:00:07,255 -                        laserfarm.retiler -       INFO - ... file C_41CZ2_1.LAZ to tile_169_106\n",
      "2021-10-27 15:00:07,255 -                        laserfarm.retiler -       INFO - ... redistributing completed.\n",
      "2021-10-27 15:00:07,256 -                        laserfarm.retiler -       INFO - Validating split ...\n",
      "2021-10-27 15:00:07,256 -                        laserfarm.retiler -       INFO - ... 30899674 points in parent file\n",
      "2021-10-27 15:00:07,256 -                        laserfarm.retiler -       INFO - ... 4131430 points in C_41CZ2_2.LAZ\n",
      "2021-10-27 15:00:07,257 -                        laserfarm.retiler -       INFO - ... 643355 points in C_41CZ2_3.LAZ\n",
      "2021-10-27 15:00:07,257 -                        laserfarm.retiler -       INFO - ... 3607773 points in C_41CZ2_1.LAZ\n",
      "2021-10-27 15:00:07,257 -                        laserfarm.retiler -       INFO - ... 6700111 points in C_41CZ2_7.LAZ\n",
      "2021-10-27 15:00:07,257 -                        laserfarm.retiler -       INFO - ... 6686994 points in C_41CZ2_5.LAZ\n",
      "2021-10-27 15:00:07,258 -                        laserfarm.retiler -       INFO - ... 8149583 points in C_41CZ2_6.LAZ\n",
      "2021-10-27 15:00:07,258 -                        laserfarm.retiler -       INFO - ... 980428 points in C_41CZ2_4.LAZ\n",
      "2021-10-27 15:00:07,258 -                        laserfarm.retiler -       INFO - ... split validation completed.\n"
     ]
    }
   ],
   "source": [
    "retiling_macro = MacroPipeline()\n",
    "\n",
    "for file_path in file_paths:\n",
    "    retiler = Retiler(input_file=file_path.name, label=file_path.stem)\n",
    "    retiler.config(retiling_input)\n",
    "    retiling_macro.add_task(retiler)\n",
    "\n",
    "retiling_macro.setup_cluster(cluster=cluster)\n",
    "\n",
    "# run!\n",
    "retiling_macro.run()\n",
    "retiling_macro.print_outcome()"
   ]
  },
  {
   "cell_type": "markdown",
   "metadata": {},
   "source": [
    "## 2. Feature Extraction\n",
    "\n",
    "Once the files are splitted into tiles of a manageable size, we proceed to the feature extraction stage, which is performed using `laserchicken`. We choose the following two example features:"
   ]
  },
  {
   "cell_type": "code",
   "execution_count": 8,
   "metadata": {},
   "outputs": [],
   "source": [
    "feature_names = ['mean_normalized_height', 'std_normalized_height']"
   ]
  },
  {
   "cell_type": "markdown",
   "metadata": {},
   "source": [
    "The base input dictionary for this step looks like:"
   ]
  },
  {
   "cell_type": "code",
   "execution_count": 9,
   "metadata": {},
   "outputs": [],
   "source": [
    "# set path where output will be written \n",
    "dp_out_path = tmp_folder/'targets'\n",
    "\n",
    "dp_input = {\n",
    "    'setup_local_fs': {\n",
    "        'input_folder': retiling_out_path.as_posix(),\n",
    "        'output_folder': dp_out_path.as_posix()\n",
    "    },\n",
    "    'load': {},\n",
    "    'normalize': {\n",
    "        'cell_size': 1\n",
    "    },\n",
    "    'generate_targets': {\n",
    "        'tile_mesh_size' : 10.0,\n",
    "        'validate' : True,\n",
    "        'validate_precision': 1.e-3,\n",
    "        **grid\n",
    "    },\n",
    "    'extract_features': {\n",
    "        'feature_names': feature_names,\n",
    "        'volume_type': 'cell',\n",
    "        'volume_size': 10\n",
    "    },\n",
    "    'export_targets': {},\n",
    "    'clear_cache': {}\n",
    "}"
   ]
  },
  {
   "cell_type": "markdown",
   "metadata": {},
   "source": [
    "Note: `laserchicken` caches the KDTree computed for the point cloud. In order to free up the memory of the `dask` workers at the end of each tile's feature extraction, we need to clear the cache (see `clear_cache` in the input dictionary above).\n",
    "\n",
    "The tiles to which the original input file has been retiled are listed in a record file located in the retiling output directory:"
   ]
  },
  {
   "cell_type": "code",
   "execution_count": 10,
   "metadata": {},
   "outputs": [
    {
     "name": "stdout",
     "output_type": "stream",
     "text": [
      "['/var/tmp/retiled/tile_169_107', '/var/tmp/retiled/tile_169_108', '/var/tmp/retiled/tile_169_106', '/var/tmp/retiled/tile_171_108', '/var/tmp/retiled/tile_170_108', '/var/tmp/retiled/tile_171_107', '/var/tmp/retiled/tile_170_107']\n"
     ]
    }
   ],
   "source": [
    "tiles = []\n",
    "for file_path in file_paths:\n",
    "    record_file = '_'.join([file_path.stem, 'retile_record.js'])\n",
    "    with pathlib.Path(retiling_out_path/record_file).open() as f:\n",
    "        record = json.load(f)\n",
    "    assert record['validated']\n",
    "    tiles += [pathlib.Path(retiling_out_path/tile)\n",
    "              for tile in record['redistributed_to']]\n",
    "print([t.as_posix() for t in tiles])"
   ]
  },
  {
   "cell_type": "markdown",
   "metadata": {},
   "source": [
    "Each tile can be processed independently, so that again one can run the tasks in a parallel fashion."
   ]
  },
  {
   "cell_type": "code",
   "execution_count": null,
   "metadata": {},
   "outputs": [
    {
     "name": "stderr",
     "output_type": "stream",
     "text": [
      "2021-10-27 15:00:07,315 -           laserfarm.pipeline_remote_data -       INFO - Input dir set to /var/tmp/retiled\n",
      "2021-10-27 15:00:07,316 -           laserfarm.pipeline_remote_data -       INFO - Output dir set to /var/tmp/targets\n",
      "2021-10-27 15:00:07,317 -                laserfarm.data_processing -       INFO - Loading point cloud data ...\n",
      "2021-10-27 15:00:07,317 -                laserfarm.data_processing -       INFO - ... loading /var/tmp/retiled/tile_170_107/C_41CZ2_4.LAZ\n",
      "2021-10-27 15:00:07,324 -                          pylas.lasreader -      ERROR - lazrs failed to decompress points: lazrs is not installed\n",
      "2021-10-27 15:00:08,141 -           laserfarm.pipeline_remote_data -       INFO - Input dir set to /var/tmp/retiled\n",
      "2021-10-27 15:00:08,141 -           laserfarm.pipeline_remote_data -       INFO - Output dir set to /var/tmp/targets\n",
      "2021-10-27 15:00:08,142 -                laserfarm.data_processing -       INFO - Loading point cloud data ...\n",
      "2021-10-27 15:00:08,143 -                laserfarm.data_processing -       INFO - ... loading /var/tmp/retiled/tile_171_107/C_41CZ2_6.LAZ\n",
      "2021-10-27 15:00:08,210 -                          pylas.lasreader -      ERROR - lazrs failed to decompress points: lazrs is not installed\n",
      "2021-10-27 15:00:08,859 -                laserfarm.data_processing -       INFO - ... loading completed.\n",
      "2021-10-27 15:00:08,859 -                laserfarm.data_processing -       INFO - Normalizing point-cloud heights ...\n",
      "2021-10-27 15:00:10,221 -                                     root -       INFO - Cylinder size in Bytes: 4286640343.970202\n",
      "2021-10-27 15:00:10,222 -                                     root -       INFO - Memory size in Bytes: 17179869184\n",
      "2021-10-27 15:00:10,222 -                                     root -       INFO - Start tree creation\n",
      "2021-10-27 15:00:10,339 -                                     root -       INFO - Done with env tree creation\n",
      "2021-10-27 15:00:10,400 -                                     root -       INFO - Done with target tree creation\n",
      "2021-10-27 15:00:19,749 -                laserfarm.data_processing -       INFO - ... loading completed.\n",
      "2021-10-27 15:00:19,749 -                laserfarm.data_processing -       INFO - Normalizing point-cloud heights ...\n",
      "2021-10-27 15:00:21,159 -                                     root -       INFO - Cylinder size in Bytes: 5430180069.876887\n",
      "2021-10-27 15:00:21,159 -                                     root -       INFO - Memory size in Bytes: 17179869184\n",
      "2021-10-27 15:00:21,159 -                                     root -       INFO - Start tree creation\n",
      "2021-10-27 15:00:22,329 -                                     root -       INFO - Done with env tree creation\n",
      "2021-10-27 15:00:22,411 -                                     root -       INFO - Done with target tree creation\n",
      "2021-10-27 15:00:24,295 -                laserfarm.data_processing -       INFO - ... normalization completed.\n",
      "2021-10-27 15:00:24,296 -                laserfarm.data_processing -       INFO - Setting up the target grid\n",
      "2021-10-27 15:00:24,296 -                laserfarm.data_processing -       INFO - Checking whether points belong to cell (170,107)\n",
      "2021-10-27 15:00:24,323 -                laserfarm.data_processing -       INFO - Generating target point mesh with 10.0m spacing \n",
      "2021-10-27 15:00:24,325 -                laserfarm.data_processing -       INFO - Building volume of type cell\n",
      "2021-10-27 15:00:24,325 -                laserfarm.data_processing -       INFO - Constructing neighborhoods\n",
      "2021-10-27 15:00:24,325 -                laserfarm.data_processing -       INFO - Starting feature extraction ...\n",
      "2021-10-27 15:00:24,325 -                                     root -       INFO - Cylinder size in Bytes: 26138050877.867085\n",
      "2021-10-27 15:00:24,325 -                                     root -       INFO - Memory size in Bytes: 17179869184\n",
      "2021-10-27 15:00:24,325 -                                     root -       INFO - Number of points: 13145\n",
      "2021-10-27 15:00:26,381 -                                     root -       INFO - Extracting feature(s) \"['mean_normalized_height', 'std_normalized_height', 'coeff_var_normalized_height']\"\n",
      "2021-10-27 15:00:26,452 -                                     root -      ERROR - /opt/miniconda3/envs/test/lib/python3.8/site-packages/laserchicken/feature_extractor/mean_std_coeff_feature_extractor.py:28: RuntimeWarning: invalid value encountered in double_scalars coeff_var_z = std_z / mean_z\n",
      "2021-10-27 15:00:26,558 -                                     root -       INFO - Extracting feature(s) \"['mean_normalized_height', 'std_normalized_height', 'coeff_var_normalized_height']\" took 0.18 seconds\n",
      "2021-10-27 15:00:26,571 -                                     root -       INFO - The following unrequested features were calculated as a side effect, but will not be returned:\n",
      "2021-10-27 15:00:26,571 -                                     root -       INFO - ['coeff_var_normalized_height']\n",
      "2021-10-27 15:00:26,572 -                laserfarm.data_processing -       INFO - ... feature extraction completed.\n",
      "2021-10-27 15:00:26,576 -                laserfarm.data_processing -       INFO - Exporting target point-cloud ...\n",
      "2021-10-27 15:00:26,576 -                laserfarm.data_processing -       INFO - ... exporting /var/tmp/targets/tile_170_107.ply\n",
      "2021-10-27 15:00:27,164 -                laserfarm.data_processing -       INFO - ... exporting completed.\n",
      "2021-10-27 15:00:27,164 -                laserfarm.data_processing -       INFO - Clearing cached KDTrees ...\n",
      "2021-10-27 15:00:27,174 -           laserfarm.pipeline_remote_data -       INFO - Input dir set to /var/tmp/retiled\n",
      "2021-10-27 15:00:27,174 -           laserfarm.pipeline_remote_data -       INFO - Output dir set to /var/tmp/targets\n",
      "2021-10-27 15:00:27,174 -                laserfarm.data_processing -       INFO - Loading point cloud data ...\n",
      "2021-10-27 15:00:27,175 -                laserfarm.data_processing -       INFO - ... loading /var/tmp/retiled/tile_170_108/C_41CZ2_5.LAZ\n",
      "2021-10-27 15:00:27,226 -                          pylas.lasreader -      ERROR - lazrs failed to decompress points: lazrs is not installed\n",
      "2021-10-27 15:00:35,883 -                laserfarm.data_processing -       INFO - ... loading completed.\n",
      "2021-10-27 15:00:35,883 -                laserfarm.data_processing -       INFO - Normalizing point-cloud heights ...\n",
      "2021-10-27 15:00:37,296 -                                     root -       INFO - Cylinder size in Bytes: 6103234879.981964\n",
      "2021-10-27 15:00:37,296 -                                     root -       INFO - Memory size in Bytes: 17179869184\n",
      "2021-10-27 15:00:37,297 -                                     root -       INFO - Start tree creation\n",
      "2021-10-27 15:00:38,231 -                                     root -       INFO - Done with env tree creation\n",
      "2021-10-27 15:00:38,319 -                                     root -       INFO - Done with target tree creation\n",
      "2021-10-27 15:01:03,301 -                laserfarm.data_processing -       INFO - ... normalization completed.\n",
      "2021-10-27 15:01:03,302 -                laserfarm.data_processing -       INFO - Setting up the target grid\n",
      "2021-10-27 15:01:03,302 -                laserfarm.data_processing -       INFO - Checking whether points belong to cell (171,107)\n",
      "2021-10-27 15:01:03,536 -                laserfarm.data_processing -       INFO - Generating target point mesh with 10.0m spacing \n",
      "2021-10-27 15:01:03,538 -                laserfarm.data_processing -       INFO - Building volume of type cell\n",
      "2021-10-27 15:01:03,538 -                laserfarm.data_processing -       INFO - Constructing neighborhoods\n",
      "2021-10-27 15:01:03,538 -                laserfarm.data_processing -       INFO - Starting feature extraction ...\n",
      "2021-10-27 15:01:03,539 -                                     root -       INFO - Cylinder size in Bytes: 26138050877.867085\n",
      "2021-10-27 15:01:03,539 -                                     root -       INFO - Memory size in Bytes: 17179869184\n",
      "2021-10-27 15:01:03,539 -                                     root -       INFO - Number of points: 13145\n",
      "2021-10-27 15:01:15,510 -                laserfarm.data_processing -       INFO - ... normalization completed.\n",
      "2021-10-27 15:01:15,511 -                laserfarm.data_processing -       INFO - Setting up the target grid\n",
      "2021-10-27 15:01:15,512 -                laserfarm.data_processing -       INFO - Checking whether points belong to cell (170,108)\n",
      "2021-10-27 15:01:15,718 -                laserfarm.data_processing -       INFO - Generating target point mesh with 10.0m spacing \n",
      "2021-10-27 15:01:15,721 -                laserfarm.data_processing -       INFO - Building volume of type cell\n",
      "2021-10-27 15:01:15,721 -                laserfarm.data_processing -       INFO - Constructing neighborhoods\n",
      "2021-10-27 15:01:15,721 -                laserfarm.data_processing -       INFO - Starting feature extraction ...\n",
      "2021-10-27 15:01:15,722 -                                     root -       INFO - Cylinder size in Bytes: 26138050877.867085\n",
      "2021-10-27 15:01:15,722 -                                     root -       INFO - Memory size in Bytes: 17179869184\n",
      "2021-10-27 15:01:15,722 -                                     root -       INFO - Number of points: 13145\n",
      "2021-10-27 15:01:22,349 -                                     root -       INFO - Extracting feature(s) \"['mean_normalized_height', 'std_normalized_height', 'coeff_var_normalized_height']\"\n",
      "2021-10-27 15:01:22,398 -                                     root -      ERROR - /opt/miniconda3/envs/test/lib/python3.8/site-packages/laserchicken/feature_extractor/mean_std_coeff_feature_extractor.py:28: RuntimeWarning: invalid value encountered in double_scalars coeff_var_z = std_z / mean_z\n",
      "2021-10-27 15:01:23,383 -                                     root -       INFO - Extracting feature(s) \"['mean_normalized_height', 'std_normalized_height', 'coeff_var_normalized_height']\" took 1.03 seconds\n",
      "2021-10-27 15:01:23,532 -                                     root -       INFO - The following unrequested features were calculated as a side effect, but will not be returned:\n",
      "2021-10-27 15:01:23,533 -                                     root -       INFO - ['coeff_var_normalized_height']\n",
      "2021-10-27 15:01:23,533 -                laserfarm.data_processing -       INFO - ... feature extraction completed.\n",
      "2021-10-27 15:01:23,546 -                laserfarm.data_processing -       INFO - Exporting target point-cloud ...\n",
      "2021-10-27 15:01:23,546 -                laserfarm.data_processing -       INFO - ... exporting /var/tmp/targets/tile_171_107.ply\n",
      "2021-10-27 15:01:24,136 -                laserfarm.data_processing -       INFO - ... exporting completed.\n",
      "2021-10-27 15:01:24,137 -                laserfarm.data_processing -       INFO - Clearing cached KDTrees ...\n",
      "2021-10-27 15:01:24,186 -           laserfarm.pipeline_remote_data -       INFO - Input dir set to /var/tmp/retiled\n",
      "2021-10-27 15:01:24,186 -           laserfarm.pipeline_remote_data -       INFO - Output dir set to /var/tmp/targets\n",
      "2021-10-27 15:01:24,186 -                laserfarm.data_processing -       INFO - Loading point cloud data ...\n",
      "2021-10-27 15:01:24,187 -                laserfarm.data_processing -       INFO - ... loading /var/tmp/retiled/tile_171_108/C_41CZ2_7.LAZ\n",
      "2021-10-27 15:01:24,256 -                          pylas.lasreader -      ERROR - lazrs failed to decompress points: lazrs is not installed\n",
      "2021-10-27 15:01:30,234 -                                     root -       INFO - Extracting feature(s) \"['mean_normalized_height', 'std_normalized_height', 'coeff_var_normalized_height']\"\n",
      "2021-10-27 15:01:31,079 -                                     root -       INFO - Extracting feature(s) \"['mean_normalized_height', 'std_normalized_height', 'coeff_var_normalized_height']\" took 0.84 seconds\n",
      "2021-10-27 15:01:31,210 -                                     root -       INFO - The following unrequested features were calculated as a side effect, but will not be returned:\n",
      "2021-10-27 15:01:31,211 -                                     root -       INFO - ['coeff_var_normalized_height']\n",
      "2021-10-27 15:01:31,211 -                laserfarm.data_processing -       INFO - ... feature extraction completed.\n",
      "2021-10-27 15:01:31,212 -                laserfarm.data_processing -       INFO - Exporting target point-cloud ...\n",
      "2021-10-27 15:01:31,212 -                laserfarm.data_processing -       INFO - ... exporting /var/tmp/targets/tile_170_108.ply\n",
      "2021-10-27 15:01:31,787 -                laserfarm.data_processing -       INFO - ... exporting completed.\n",
      "2021-10-27 15:01:31,787 -                laserfarm.data_processing -       INFO - Clearing cached KDTrees ...\n",
      "2021-10-27 15:01:31,828 -           laserfarm.pipeline_remote_data -       INFO - Input dir set to /var/tmp/retiled\n",
      "2021-10-27 15:01:31,828 -           laserfarm.pipeline_remote_data -       INFO - Output dir set to /var/tmp/targets\n",
      "2021-10-27 15:01:31,829 -                laserfarm.data_processing -       INFO - Loading point cloud data ...\n",
      "2021-10-27 15:01:31,829 -                laserfarm.data_processing -       INFO - ... loading /var/tmp/retiled/tile_169_106/C_41CZ2_1.LAZ\n",
      "2021-10-27 15:01:31,856 -                          pylas.lasreader -      ERROR - lazrs failed to decompress points: lazrs is not installed\n",
      "2021-10-27 15:01:32,429 -                laserfarm.data_processing -       INFO - ... loading completed.\n",
      "2021-10-27 15:01:32,430 -                laserfarm.data_processing -       INFO - Normalizing point-cloud heights ...\n",
      "2021-10-27 15:01:33,161 -                                     root -       INFO - Cylinder size in Bytes: 3381192123.5100083\n",
      "2021-10-27 15:01:33,161 -                                     root -       INFO - Memory size in Bytes: 17179869184\n",
      "2021-10-27 15:01:33,162 -                                     root -       INFO - Start tree creation\n",
      "2021-10-27 15:01:33,988 -                                     root -       INFO - Done with env tree creation\n",
      "2021-10-27 15:01:34,034 -                                     root -       INFO - Done with target tree creation\n",
      "2021-10-27 15:01:36,076 -                laserfarm.data_processing -       INFO - ... loading completed.\n",
      "2021-10-27 15:01:36,076 -                laserfarm.data_processing -       INFO - Normalizing point-cloud heights ...\n",
      "2021-10-27 15:01:36,945 -                                     root -       INFO - Cylinder size in Bytes: 4073941954.9515586\n",
      "2021-10-27 15:01:36,945 -                                     root -       INFO - Memory size in Bytes: 17179869184\n",
      "2021-10-27 15:01:36,946 -                                     root -       INFO - Start tree creation\n",
      "2021-10-27 15:01:37,411 -                                     root -       INFO - Done with env tree creation\n",
      "2021-10-27 15:01:37,471 -                                     root -       INFO - Done with target tree creation\n",
      "2021-10-27 15:01:58,874 -                laserfarm.data_processing -       INFO - ... normalization completed.\n",
      "2021-10-27 15:01:58,875 -                laserfarm.data_processing -       INFO - Setting up the target grid\n",
      "2021-10-27 15:01:58,875 -                laserfarm.data_processing -       INFO - Checking whether points belong to cell (169,106)\n",
      "2021-10-27 15:01:58,990 -                laserfarm.data_processing -       INFO - Generating target point mesh with 10.0m spacing \n",
      "2021-10-27 15:01:58,992 -                laserfarm.data_processing -       INFO - Building volume of type cell\n",
      "2021-10-27 15:01:58,993 -                laserfarm.data_processing -       INFO - Constructing neighborhoods\n",
      "2021-10-27 15:01:58,993 -                laserfarm.data_processing -       INFO - Starting feature extraction ...\n",
      "2021-10-27 15:01:58,993 -                                     root -       INFO - Cylinder size in Bytes: 26138050877.867085\n",
      "2021-10-27 15:01:58,993 -                                     root -       INFO - Memory size in Bytes: 17179869184\n",
      "2021-10-27 15:01:58,993 -                                     root -       INFO - Number of points: 13145\n",
      "2021-10-27 15:02:04,550 -                laserfarm.data_processing -       INFO - ... normalization completed.\n",
      "2021-10-27 15:02:04,550 -                laserfarm.data_processing -       INFO - Setting up the target grid\n",
      "2021-10-27 15:02:04,551 -                laserfarm.data_processing -       INFO - Checking whether points belong to cell (171,108)\n",
      "2021-10-27 15:02:04,754 -                laserfarm.data_processing -       INFO - Generating target point mesh with 10.0m spacing \n",
      "2021-10-27 15:02:04,756 -                laserfarm.data_processing -       INFO - Building volume of type cell\n",
      "2021-10-27 15:02:04,756 -                laserfarm.data_processing -       INFO - Constructing neighborhoods\n",
      "2021-10-27 15:02:04,756 -                laserfarm.data_processing -       INFO - Starting feature extraction ...\n",
      "2021-10-27 15:02:04,757 -                                     root -       INFO - Cylinder size in Bytes: 26138050877.867085\n",
      "2021-10-27 15:02:04,757 -                                     root -       INFO - Memory size in Bytes: 17179869184\n",
      "2021-10-27 15:02:04,757 -                                     root -       INFO - Number of points: 13145\n",
      "2021-10-27 15:02:07,368 -                                     root -       INFO - Extracting feature(s) \"['mean_normalized_height', 'std_normalized_height', 'coeff_var_normalized_height']\"\n",
      "2021-10-27 15:02:07,910 -                                     root -       INFO - Extracting feature(s) \"['mean_normalized_height', 'std_normalized_height', 'coeff_var_normalized_height']\" took 0.54 seconds\n",
      "2021-10-27 15:02:07,972 -                                     root -       INFO - The following unrequested features were calculated as a side effect, but will not be returned:\n",
      "2021-10-27 15:02:07,972 -                                     root -       INFO - ['coeff_var_normalized_height']\n",
      "2021-10-27 15:02:07,972 -                laserfarm.data_processing -       INFO - ... feature extraction completed.\n",
      "2021-10-27 15:02:07,972 -                laserfarm.data_processing -       INFO - Exporting target point-cloud ...\n",
      "2021-10-27 15:02:07,973 -                laserfarm.data_processing -       INFO - ... exporting /var/tmp/targets/tile_169_106.ply\n",
      "2021-10-27 15:02:08,515 -                laserfarm.data_processing -       INFO - ... exporting completed.\n",
      "2021-10-27 15:02:08,515 -                laserfarm.data_processing -       INFO - Clearing cached KDTrees ...\n",
      "2021-10-27 15:02:08,541 -           laserfarm.pipeline_remote_data -       INFO - Input dir set to /var/tmp/retiled\n",
      "2021-10-27 15:02:08,541 -           laserfarm.pipeline_remote_data -       INFO - Output dir set to /var/tmp/targets\n",
      "2021-10-27 15:02:08,541 -                laserfarm.data_processing -       INFO - Loading point cloud data ...\n",
      "2021-10-27 15:02:08,541 -                laserfarm.data_processing -       INFO - ... loading /var/tmp/retiled/tile_169_108/C_41CZ2_3.LAZ\n",
      "2021-10-27 15:02:08,553 -                          pylas.lasreader -      ERROR - lazrs failed to decompress points: lazrs is not installed\n",
      "2021-10-27 15:02:09,414 -                laserfarm.data_processing -       INFO - ... loading completed.\n",
      "2021-10-27 15:02:09,414 -                laserfarm.data_processing -       INFO - Normalizing point-cloud heights ...\n",
      "2021-10-27 15:02:09,608 -                                     root -       INFO - Cylinder size in Bytes: 546239521.7583858\n",
      "2021-10-27 15:02:09,608 -                                     root -       INFO - Memory size in Bytes: 17179869184\n",
      "2021-10-27 15:02:09,608 -                                     root -       INFO - Start tree creation\n",
      "2021-10-27 15:02:09,707 -                                     root -       INFO - Done with env tree creation\n",
      "2021-10-27 15:02:09,717 -                                     root -       INFO - Done with target tree creation\n",
      "2021-10-27 15:02:14,017 -                laserfarm.data_processing -       INFO - ... normalization completed.\n",
      "2021-10-27 15:02:14,018 -                laserfarm.data_processing -       INFO - Setting up the target grid\n",
      "2021-10-27 15:02:14,018 -                laserfarm.data_processing -       INFO - Checking whether points belong to cell (169,108)\n",
      "2021-10-27 15:02:14,037 -                laserfarm.data_processing -       INFO - Generating target point mesh with 10.0m spacing \n",
      "2021-10-27 15:02:14,039 -                laserfarm.data_processing -       INFO - Building volume of type cell\n",
      "2021-10-27 15:02:14,040 -                laserfarm.data_processing -       INFO - Constructing neighborhoods\n",
      "2021-10-27 15:02:14,040 -                laserfarm.data_processing -       INFO - Starting feature extraction ...\n",
      "2021-10-27 15:02:14,040 -                                     root -       INFO - Cylinder size in Bytes: 26138050877.867085\n",
      "2021-10-27 15:02:14,040 -                                     root -       INFO - Memory size in Bytes: 17179869184\n",
      "2021-10-27 15:02:14,040 -                                     root -       INFO - Number of points: 13145\n",
      "2021-10-27 15:02:15,435 -                                     root -       INFO - Extracting feature(s) \"['mean_normalized_height', 'std_normalized_height', 'coeff_var_normalized_height']\"\n",
      "2021-10-27 15:02:15,647 -                                     root -       INFO - Extracting feature(s) \"['mean_normalized_height', 'std_normalized_height', 'coeff_var_normalized_height']\" took 0.21 seconds\n",
      "2021-10-27 15:02:15,657 -                                     root -       INFO - The following unrequested features were calculated as a side effect, but will not be returned:\n",
      "2021-10-27 15:02:15,658 -                                     root -       INFO - ['coeff_var_normalized_height']\n",
      "2021-10-27 15:02:15,658 -                laserfarm.data_processing -       INFO - ... feature extraction completed.\n",
      "2021-10-27 15:02:15,658 -                laserfarm.data_processing -       INFO - Exporting target point-cloud ...\n",
      "2021-10-27 15:02:15,659 -                laserfarm.data_processing -       INFO - ... exporting /var/tmp/targets/tile_169_108.ply\n",
      "2021-10-27 15:02:16,329 -                laserfarm.data_processing -       INFO - ... exporting completed.\n",
      "2021-10-27 15:02:16,329 -                laserfarm.data_processing -       INFO - Clearing cached KDTrees ...\n",
      "2021-10-27 15:02:16,565 -           laserfarm.pipeline_remote_data -       INFO - Input dir set to /var/tmp/retiled\n",
      "2021-10-27 15:02:16,566 -           laserfarm.pipeline_remote_data -       INFO - Output dir set to /var/tmp/targets\n",
      "2021-10-27 15:02:16,566 -                laserfarm.data_processing -       INFO - Loading point cloud data ...\n",
      "2021-10-27 15:02:16,566 -                laserfarm.data_processing -       INFO - ... loading /var/tmp/retiled/tile_169_107/C_41CZ2_2.LAZ\n",
      "2021-10-27 15:02:16,613 -                          pylas.lasreader -      ERROR - lazrs failed to decompress points: lazrs is not installed\n",
      "2021-10-27 15:02:20,600 -                                     root -       INFO - Extracting feature(s) \"['mean_normalized_height', 'std_normalized_height', 'coeff_var_normalized_height']\"\n",
      "2021-10-27 15:02:21,527 -                                     root -       INFO - Extracting feature(s) \"['mean_normalized_height', 'std_normalized_height', 'coeff_var_normalized_height']\" took 0.93 seconds\n",
      "2021-10-27 15:02:21,658 -                                     root -       INFO - The following unrequested features were calculated as a side effect, but will not be returned:\n",
      "2021-10-27 15:02:21,659 -                                     root -       INFO - ['coeff_var_normalized_height']\n",
      "2021-10-27 15:02:21,659 -                laserfarm.data_processing -       INFO - ... feature extraction completed.\n",
      "2021-10-27 15:02:21,661 -                laserfarm.data_processing -       INFO - Exporting target point-cloud ...\n",
      "2021-10-27 15:02:21,661 -                laserfarm.data_processing -       INFO - ... exporting /var/tmp/targets/tile_171_108.ply\n",
      "2021-10-27 15:02:22,179 -                laserfarm.data_processing -       INFO - ... loading completed.\n",
      "2021-10-27 15:02:22,180 -                laserfarm.data_processing -       INFO - Normalizing point-cloud heights ...\n",
      "2021-10-27 15:02:22,256 -                laserfarm.data_processing -       INFO - ... exporting completed.\n",
      "2021-10-27 15:02:22,256 -                laserfarm.data_processing -       INFO - Clearing cached KDTrees ...\n",
      "2021-10-27 15:02:26,783 -                                     root -       INFO - Cylinder size in Bytes: 21659576843.991497\n",
      "2021-10-27 15:02:26,783 -                                     root -       INFO - Memory size in Bytes: 17179869184\n",
      "2021-10-27 15:02:26,783 -                                     root -       INFO - Number of points: 1314548\n"
     ]
    }
   ],
   "source": [
    "dp_macro = MacroPipeline()\n",
    "\n",
    "for tile in tiles:\n",
    "    # parse tile index from the directory name\n",
    "    tile_index = [int(n) for n in tile.name.split('_')[1:]]\n",
    "    dp = DataProcessing(input=tile.name, label=tile.name, tile_index=tile_index)\n",
    "    dp.config(dp_input)\n",
    "    dp_macro.add_task(dp)\n",
    "    \n",
    "dp_macro.setup_cluster(cluster=cluster)\n",
    "\n",
    "# run!\n",
    "dp_macro.run()\n",
    "dp_macro.print_outcome()"
   ]
  },
  {
   "cell_type": "markdown",
   "metadata": {},
   "source": [
    "## 3. Classification of target points\n",
    "We can classify the target points according to their groud type, based on given cadaster data. \n",
    "To mark the types of the points in the point cloud, we can add a new column `ground_type` to the target point cloud. We can use the class code of TOP10NL as the identifier. \n",
    "\n",
    "0. Unclassified\n",
    "1. Gebouw\n",
    "2. Inrichtingselement\n",
    "3. Terrein (Polygon)\n",
    "4. Spoorbaandeel\n",
    "5. Waterdeel\n",
    "6. GeografischGebied (Point)\n",
    "7. FunctioneelGebied\n",
    "8. Plaats\n",
    "9. RegistratiefGebied\n",
    "10. Hoogte\n",
    "11. Relief (Line String)\n",
    "12. Wegdeel\n",
    "\n",
    "Here we present an example where we classify the points that fall on waterbodies with the given shp files of waterbody polygons. We will classify the target points according to the shape files provided in `testdata/shp`:"
   ]
  },
  {
   "cell_type": "code",
   "execution_count": null,
   "metadata": {},
   "outputs": [],
   "source": [
    "shp_path = pathlib.Path('./testdata/shp/')"
   ]
  },
  {
   "cell_type": "markdown",
   "metadata": {},
   "source": [
    "The pipeline will automatically find out the relavant shp file. We will add a new column `ground_type`, and mark all points which fall in the waterbody polygons with `5`, which is the `waterdeel` identifier.\n",
    "\n",
    "We set up the input for the classification pipeline as follow:"
   ]
  },
  {
   "cell_type": "code",
   "execution_count": null,
   "metadata": {},
   "outputs": [],
   "source": [
    "# set path where output will be written \n",
    "cl_out_path = tmp_folder/'classified_target_point'\n",
    "\n",
    "classification_input = {\n",
    "    'setup_local_fs': {\n",
    "        'input_folder': dp_out_path.as_posix(),\n",
    "        'output_folder': cl_out_path.as_posix()\n",
    "    },\n",
    "    'locate_shp': {'shp_dir': shp_path.absolute().as_posix()},\n",
    "    'classification': {'ground_type': 5},\n",
    "    'export_point_cloud': {'overwrite':True}\n",
    "}"
   ]
  },
  {
   "cell_type": "markdown",
   "metadata": {},
   "source": [
    "Then we excute the pipeline:"
   ]
  },
  {
   "cell_type": "code",
   "execution_count": null,
   "metadata": {},
   "outputs": [],
   "source": [
    "cl_macro = MacroPipeline()\n",
    "\n",
    "for tile in tiles:\n",
    "    tile_path = (dp_out_path/tile.name).with_suffix('.ply') \n",
    "    cl = Classification(input_file=tile_path.as_posix(), label=tile.name)\n",
    "    cl.config(classification_input)\n",
    "    cl_macro.add_task(cl)\n",
    "    \n",
    "cl_macro.setup_cluster(cluster=cluster)\n",
    "\n",
    "# run!\n",
    "cl_macro.run()\n",
    "cl_macro.print_outcome()"
   ]
  },
  {
   "cell_type": "markdown",
   "metadata": {},
   "source": [
    "## 4. GeoTIFF Export\n",
    "\n",
    "The last step of the pipeline is the transformation of the features extracted and added gound type from the point-cloud data and 'rasterized' in the target grid to a GeoTIFF file. In this case, the construction of the geotiffs (one per feature) can be performed in parallel: "
   ]
  },
  {
   "cell_type": "code",
   "execution_count": null,
   "metadata": {},
   "outputs": [],
   "source": [
    "# set path where output will be written \n",
    "gw_out_path = tmp_folder/'geotiffs'\n",
    "\n",
    "gw_input = {\n",
    "    'setup_local_fs': {'input_folder': cl_out_path.as_posix(),\n",
    "                       'output_folder': gw_out_path.as_posix()},\n",
    "    'parse_point_cloud': {},\n",
    "    'data_split': [1, 1],\n",
    "    'create_subregion_geotiffs': {'output_handle': 'geotiff'}\n",
    "}"
   ]
  },
  {
   "cell_type": "code",
   "execution_count": null,
   "metadata": {},
   "outputs": [],
   "source": [
    "geotiff_macro = MacroPipeline()\n",
    "feature_names.append('ground_type')\n",
    "\n",
    "for feature_name in feature_names:\n",
    "    gw = GeotiffWriter(bands=feature_name, label=feature_name)\n",
    "    gw.config(gw_input)\n",
    "    geotiff_macro.add_task(gw)\n",
    "\n",
    "geotiff_macro.setup_cluster(cluster=cluster)\n",
    "\n",
    "# run!\n",
    "geotiff_macro.run()\n",
    "geotiff_macro.print_outcome()"
   ]
  },
  {
   "cell_type": "markdown",
   "metadata": {},
   "source": [
    "Finally, we stop the client and the scheduler of the cluster."
   ]
  },
  {
   "cell_type": "code",
   "execution_count": null,
   "metadata": {
    "scrolled": true
   },
   "outputs": [],
   "source": [
    "cluster.close()"
   ]
  }
 ],
 "metadata": {
  "kernelspec": {
   "display_name": "Python 3 (ipykernel)",
   "language": "python",
   "name": "python3"
  },
  "language_info": {
   "codemirror_mode": {
    "name": "ipython",
    "version": 3
   },
   "file_extension": ".py",
   "mimetype": "text/x-python",
   "name": "python",
   "nbconvert_exporter": "python",
   "pygments_lexer": "ipython3",
   "version": "3.8.12"
  }
 },
 "nbformat": 4,
 "nbformat_minor": 4
}
